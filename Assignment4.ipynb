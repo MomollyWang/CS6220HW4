{
  "nbformat": 4,
  "nbformat_minor": 0,
  "metadata": {
    "colab": {
      "provenance": []
    },
    "kernelspec": {
      "name": "python3",
      "display_name": "Python 3"
    },
    "language_info": {
      "name": "python"
    }
  },
  "cells": [
    {
      "cell_type": "code",
      "execution_count": 1,
      "metadata": {
        "id": "Ia7laBC1bPM8"
      },
      "outputs": [],
      "source": [
        "import math\n",
        "import pandas as pd\n",
        "import matplotlib.pyplot as plt\n",
        "import numpy as np"
      ]
    },
    {
      "cell_type": "markdown",
      "source": [
        "**Question. 1a**"
      ],
      "metadata": {
        "id": "vnWavHu_CJ8P"
      }
    },
    {
      "cell_type": "code",
      "source": [
        "# simple k-means function\n",
        "def k_means(data, centroids):\n",
        "    # Step 1: Initialization\n",
        "    clusters = [[] for _ in range(len(centroids))]\n",
        "    n = 0\n",
        "\n",
        "    while n < 100:\n",
        "        # Step 2: Assignment\n",
        "        for point in data:\n",
        "            distances = [math.dist(point, centroid) for centroid in centroids]\n",
        "            cluster_idx = distances.index(min(distances))\n",
        "            clusters[cluster_idx].append(point)\n",
        "        \n",
        "        # Step 3: Update\n",
        "        new_centroids = []\n",
        "        for i, cluster in enumerate(clusters):\n",
        "            if cluster:\n",
        "                new_centroid = [sum(x)/len(cluster) for x in zip(*cluster)]\n",
        "            else:\n",
        "                new_centroid = centroids[i]\n",
        "            new_centroids.append(new_centroid)\n",
        "        \n",
        "        # Check for convergence\n",
        "        if new_centroids == centroids:\n",
        "            break\n",
        "        \n",
        "        # Step 1: Re-initialize\n",
        "        centroids = new_centroids\n",
        "        clusters = [[] for _ in range(len(centroids))]\n",
        "        n += 1\n",
        "    \n",
        "    # Return final centroids and clusters\n",
        "    return centroids, clusters\n"
      ],
      "metadata": {
        "id": "xPCqqo-ybchb"
      },
      "execution_count": 2,
      "outputs": []
    },
    {
      "cell_type": "code",
      "source": [
        "data_file = '/content/sample_data/f150_motor_distributors.txt'\n",
        "raw_data = pd.read_csv(data_file, delimiter = \",\",names=['timing speed', 'rcoil gaps'])\n",
        "raw_data.head(5)\n"
      ],
      "metadata": {
        "colab": {
          "base_uri": "https://localhost:8080/",
          "height": 206
        },
        "id": "PLV72ADXgBXO",
        "outputId": "45f8c1b1-2c28-4239-c4cb-4823b6034c3e"
      },
      "execution_count": 4,
      "outputs": [
        {
          "output_type": "execute_result",
          "data": {
            "text/plain": [
              "   timing speed  rcoil gaps\n",
              "0    -11.969996   -8.039628\n",
              "1    -26.961416   -6.962109\n",
              "2    -12.915849   -1.378941\n",
              "3     22.476144    2.066612\n",
              "4    -13.146631    4.835322"
            ],
            "text/html": [
              "\n",
              "  <div id=\"df-cc3afae4-a22b-437a-b04b-9503a888d1a0\">\n",
              "    <div class=\"colab-df-container\">\n",
              "      <div>\n",
              "<style scoped>\n",
              "    .dataframe tbody tr th:only-of-type {\n",
              "        vertical-align: middle;\n",
              "    }\n",
              "\n",
              "    .dataframe tbody tr th {\n",
              "        vertical-align: top;\n",
              "    }\n",
              "\n",
              "    .dataframe thead th {\n",
              "        text-align: right;\n",
              "    }\n",
              "</style>\n",
              "<table border=\"1\" class=\"dataframe\">\n",
              "  <thead>\n",
              "    <tr style=\"text-align: right;\">\n",
              "      <th></th>\n",
              "      <th>timing speed</th>\n",
              "      <th>rcoil gaps</th>\n",
              "    </tr>\n",
              "  </thead>\n",
              "  <tbody>\n",
              "    <tr>\n",
              "      <th>0</th>\n",
              "      <td>-11.969996</td>\n",
              "      <td>-8.039628</td>\n",
              "    </tr>\n",
              "    <tr>\n",
              "      <th>1</th>\n",
              "      <td>-26.961416</td>\n",
              "      <td>-6.962109</td>\n",
              "    </tr>\n",
              "    <tr>\n",
              "      <th>2</th>\n",
              "      <td>-12.915849</td>\n",
              "      <td>-1.378941</td>\n",
              "    </tr>\n",
              "    <tr>\n",
              "      <th>3</th>\n",
              "      <td>22.476144</td>\n",
              "      <td>2.066612</td>\n",
              "    </tr>\n",
              "    <tr>\n",
              "      <th>4</th>\n",
              "      <td>-13.146631</td>\n",
              "      <td>4.835322</td>\n",
              "    </tr>\n",
              "  </tbody>\n",
              "</table>\n",
              "</div>\n",
              "      <button class=\"colab-df-convert\" onclick=\"convertToInteractive('df-cc3afae4-a22b-437a-b04b-9503a888d1a0')\"\n",
              "              title=\"Convert this dataframe to an interactive table.\"\n",
              "              style=\"display:none;\">\n",
              "        \n",
              "  <svg xmlns=\"http://www.w3.org/2000/svg\" height=\"24px\"viewBox=\"0 0 24 24\"\n",
              "       width=\"24px\">\n",
              "    <path d=\"M0 0h24v24H0V0z\" fill=\"none\"/>\n",
              "    <path d=\"M18.56 5.44l.94 2.06.94-2.06 2.06-.94-2.06-.94-.94-2.06-.94 2.06-2.06.94zm-11 1L8.5 8.5l.94-2.06 2.06-.94-2.06-.94L8.5 2.5l-.94 2.06-2.06.94zm10 10l.94 2.06.94-2.06 2.06-.94-2.06-.94-.94-2.06-.94 2.06-2.06.94z\"/><path d=\"M17.41 7.96l-1.37-1.37c-.4-.4-.92-.59-1.43-.59-.52 0-1.04.2-1.43.59L10.3 9.45l-7.72 7.72c-.78.78-.78 2.05 0 2.83L4 21.41c.39.39.9.59 1.41.59.51 0 1.02-.2 1.41-.59l7.78-7.78 2.81-2.81c.8-.78.8-2.07 0-2.86zM5.41 20L4 18.59l7.72-7.72 1.47 1.35L5.41 20z\"/>\n",
              "  </svg>\n",
              "      </button>\n",
              "      \n",
              "  <style>\n",
              "    .colab-df-container {\n",
              "      display:flex;\n",
              "      flex-wrap:wrap;\n",
              "      gap: 12px;\n",
              "    }\n",
              "\n",
              "    .colab-df-convert {\n",
              "      background-color: #E8F0FE;\n",
              "      border: none;\n",
              "      border-radius: 50%;\n",
              "      cursor: pointer;\n",
              "      display: none;\n",
              "      fill: #1967D2;\n",
              "      height: 32px;\n",
              "      padding: 0 0 0 0;\n",
              "      width: 32px;\n",
              "    }\n",
              "\n",
              "    .colab-df-convert:hover {\n",
              "      background-color: #E2EBFA;\n",
              "      box-shadow: 0px 1px 2px rgba(60, 64, 67, 0.3), 0px 1px 3px 1px rgba(60, 64, 67, 0.15);\n",
              "      fill: #174EA6;\n",
              "    }\n",
              "\n",
              "    [theme=dark] .colab-df-convert {\n",
              "      background-color: #3B4455;\n",
              "      fill: #D2E3FC;\n",
              "    }\n",
              "\n",
              "    [theme=dark] .colab-df-convert:hover {\n",
              "      background-color: #434B5C;\n",
              "      box-shadow: 0px 1px 3px 1px rgba(0, 0, 0, 0.15);\n",
              "      filter: drop-shadow(0px 1px 2px rgba(0, 0, 0, 0.3));\n",
              "      fill: #FFFFFF;\n",
              "    }\n",
              "  </style>\n",
              "\n",
              "      <script>\n",
              "        const buttonEl =\n",
              "          document.querySelector('#df-cc3afae4-a22b-437a-b04b-9503a888d1a0 button.colab-df-convert');\n",
              "        buttonEl.style.display =\n",
              "          google.colab.kernel.accessAllowed ? 'block' : 'none';\n",
              "\n",
              "        async function convertToInteractive(key) {\n",
              "          const element = document.querySelector('#df-cc3afae4-a22b-437a-b04b-9503a888d1a0');\n",
              "          const dataTable =\n",
              "            await google.colab.kernel.invokeFunction('convertToInteractive',\n",
              "                                                     [key], {});\n",
              "          if (!dataTable) return;\n",
              "\n",
              "          const docLinkHtml = 'Like what you see? Visit the ' +\n",
              "            '<a target=\"_blank\" href=https://colab.research.google.com/notebooks/data_table.ipynb>data table notebook</a>'\n",
              "            + ' to learn more about interactive tables.';\n",
              "          element.innerHTML = '';\n",
              "          dataTable['output_type'] = 'display_data';\n",
              "          await google.colab.output.renderOutput(dataTable, element);\n",
              "          const docLink = document.createElement('div');\n",
              "          docLink.innerHTML = docLinkHtml;\n",
              "          element.appendChild(docLink);\n",
              "        }\n",
              "      </script>\n",
              "    </div>\n",
              "  </div>\n",
              "  "
            ]
          },
          "metadata": {},
          "execution_count": 4
        }
      ]
    },
    {
      "cell_type": "code",
      "source": [
        "data = raw_data.values.tolist()"
      ],
      "metadata": {
        "id": "eYlv_JQAjbBc"
      },
      "execution_count": 5,
      "outputs": []
    },
    {
      "cell_type": "code",
      "source": [
        "centroids = [[10, 10], [-10,-10],[2,2],[3,3], [-3,-3]]"
      ],
      "metadata": {
        "id": "TXzceA3zdEp_"
      },
      "execution_count": 6,
      "outputs": []
    },
    {
      "cell_type": "code",
      "source": [
        "new_centroids, clusters = k_means(data, centroids)"
      ],
      "metadata": {
        "id": "FL1YQyNQjzh0"
      },
      "execution_count": 7,
      "outputs": []
    },
    {
      "cell_type": "markdown",
      "source": [
        "**Question. 1b**"
      ],
      "metadata": {
        "id": "8Lg9xJvVCa59"
      }
    },
    {
      "cell_type": "code",
      "source": [
        "for cluster in clusters:\n",
        "  x = [p[0] for p in cluster]\n",
        "  y = [p[1] for p in cluster]\n",
        "\n",
        "  plt.scatter(x, y)"
      ],
      "metadata": {
        "colab": {
          "base_uri": "https://localhost:8080/",
          "height": 265
        },
        "id": "qxHWixDBkX2E",
        "outputId": "104249bb-8ded-4fa6-ed50-a5bc810a0e22"
      },
      "execution_count": 8,
      "outputs": [
        {
          "output_type": "display_data",
          "data": {
            "text/plain": [
              "<Figure size 432x288 with 1 Axes>"
            ],
            "image/png": "[encoded data removed]"
          },
          "metadata": {
            "needs_background": "light"
          }
        }
      ]
    },
    {
      "cell_type": "markdown",
      "source": [
        "**Question. 1c**\n",
        "\n",
        "First, just by obeservation of scatter points we can see there are approximately 5 groups of data. To be more scientifical, we can use a method called the elbow method. Computing SSE for some values of k and plot them. The elbow method is about to choose the k at which the SSE decreases abruptly.\n",
        "\n",
        "This time these clusters don't plot very well. It's because the value ranges of two variables vary a lot. I think normalization before clustering would be a good way to improve the output."
      ],
      "metadata": {
        "id": "NwqmsspCCiLB"
      }
    },
    {
      "cell_type": "markdown",
      "source": [
        "**Question. 2a**"
      ],
      "metadata": {
        "id": "fGCKnA3ND90i"
      }
    },
    {
      "cell_type": "code",
      "source": [
        "P = [[10, 0.5],[-10,0.25]]\n",
        "\n",
        "P = np.array(P)\n",
        "\n",
        "inv_P = np.linalg.inv(np.dot(P.T, P))\n",
        "\n",
        "print(inv_P)"
      ],
      "metadata": {
        "colab": {
          "base_uri": "https://localhost:8080/"
        },
        "id": "FkfWZcJzlTsf",
        "outputId": "d28efc50-df19-4a9d-f9dd-991703022adc"
      },
      "execution_count": 9,
      "outputs": [
        {
          "output_type": "stream",
          "name": "stdout",
          "text": [
            "[[ 0.00555556 -0.04444444]\n",
            " [-0.04444444  3.55555556]]\n"
          ]
        }
      ]
    },
    {
      "cell_type": "code",
      "source": [
        "def mahalanobis_distance(x, y, P, inv_P):\n",
        "    # Convert x, y and P into numpy arrays\n",
        "    x = np.array(x)\n",
        "    y = np.array(y)\n",
        "    \n",
        "    # Compute Mahalanobis distance between x and y using matrix P\n",
        "    diff = x - y\n",
        "    return np.sqrt(np.dot(np.dot(diff, inv_P), diff.T))\n",
        "\n",
        "def k_means_mahalanobis(data, centroids, P, inv_P):\n",
        "    # Step 1: Initialization\n",
        "    clusters = [[] for _ in range(len(centroids))]\n",
        "\n",
        "    while True:\n",
        "        # Step 2: Assignment\n",
        "        for point in data:\n",
        "            distances = [mahalanobis_distance(point, centroid, P, inv_P) for centroid in centroids]\n",
        "            cluster_idx = distances.index(min(distances))\n",
        "            clusters[cluster_idx].append(point)\n",
        "        \n",
        "        # Step 3: Update\n",
        "        new_centroids = []\n",
        "        for i, cluster in enumerate(clusters):\n",
        "            if cluster:\n",
        "                new_centroid = [sum(x)/len(cluster) for x in zip(*cluster)]\n",
        "            else:\n",
        "                new_centroid = centroids[i]\n",
        "            new_centroids.append(new_centroid)\n",
        "        \n",
        "        # Check for convergence\n",
        "        if new_centroids == centroids:\n",
        "            break\n",
        "        \n",
        "        # Step 1: Re-initialize\n",
        "        centroids = new_centroids\n",
        "        clusters = [[] for _ in range(len(centroids))]\n",
        "\n",
        "    \n",
        "    # Return final centroids and clusters\n",
        "    return centroids, clusters\n"
      ],
      "metadata": {
        "id": "1SEEAJ5Yu29-"
      },
      "execution_count": 10,
      "outputs": []
    },
    {
      "cell_type": "code",
      "source": [
        "centroids_2, clusters_2 = k_means_mahalanobis(data, centroids, P, inv_P)"
      ],
      "metadata": {
        "id": "3NUgXzGdvw_W"
      },
      "execution_count": 11,
      "outputs": []
    },
    {
      "cell_type": "code",
      "source": [
        "for cluster in clusters_2:\n",
        "  x = [p[0] for p in cluster]\n",
        "  y = [p[1] for p in cluster]\n",
        "\n",
        "  plt.scatter(x, y)"
      ],
      "metadata": {
        "colab": {
          "base_uri": "https://localhost:8080/",
          "height": 265
        },
        "id": "UY2qM_AimJtu",
        "outputId": "1c53fba9-36f2-480b-cb41-b93d3e4a8f51"
      },
      "execution_count": 12,
      "outputs": [
        {
          "output_type": "display_data",
          "data": {
            "text/plain": [
              "<Figure size 432x288 with 1 Axes>"
            ],
            "image/png": "[encoded data removed]"
          },
          "metadata": {
            "needs_background": "light"
          }
        }
      ]
    },
    {
      "cell_type": "markdown",
      "source": [
        "**Question. 2b**"
      ],
      "metadata": {
        "id": "ClNYCoSLEKTd"
      }
    },
    {
      "cell_type": "code",
      "source": [
        "data = np.array(data)\n",
        "\n",
        "def principal_components(data):\n",
        "  # Center the data by subtracting the mean of each column\n",
        "  data_centered = data - np.mean(data, axis=0)\n",
        "\n",
        "  # Compute the SVD of the centered data\n",
        "  U, s, Vt = np.linalg.svd(data_centered)\n",
        "\n",
        "  # Extract the principal components (i.e., the columns of the matrix Vt)\n",
        "  principal_components = Vt.T\n",
        "\n",
        "  return principal_components\n",
        "\n",
        "# Print the principal components\n",
        "print(\"The principal components of aggregated data is: \", principal_components(data))"
      ],
      "metadata": {
        "colab": {
          "base_uri": "https://localhost:8080/"
        },
        "id": "ipAsUEYC_rCH",
        "outputId": "cf6a56c0-7344-4806-96aa-9aaf593f944e"
      },
      "execution_count": 15,
      "outputs": [
        {
          "output_type": "stream",
          "name": "stdout",
          "text": [
            "The principal components of aggregated data is:  [[ 0.99838317  0.05684225]\n",
            " [-0.05684225  0.99838317]]\n"
          ]
        }
      ]
    },
    {
      "cell_type": "markdown",
      "source": [
        "**Question. 2c**"
      ],
      "metadata": {
        "id": "JluZhYJ8EN4g"
      }
    },
    {
      "cell_type": "code",
      "source": [
        "for i, cluster in enumerate(clusters_2):\n",
        "  print(\"The principal components of cluster %d is: \"%(i+1), principal_components(cluster), \"\\n\")"
      ],
      "metadata": {
        "colab": {
          "base_uri": "https://localhost:8080/"
        },
        "id": "-Yte6JnxAfaG",
        "outputId": "3e0b7f66-e972-4004-c467-7adc4705da8c"
      },
      "execution_count": 18,
      "outputs": [
        {
          "output_type": "stream",
          "name": "stdout",
          "text": [
            "The principal components of cluster 1 is:  [[-0.99993527 -0.01137789]\n",
            " [-0.01137789  0.99993527]] \n",
            "\n",
            "The principal components of cluster 2 is:  [[ 0.99992533  0.01222027]\n",
            " [ 0.01222027 -0.99992533]] \n",
            "\n",
            "The principal components of cluster 3 is:  [[ 0.99990986 -0.01342629]\n",
            " [ 0.01342629  0.99990986]] \n",
            "\n",
            "The principal components of cluster 4 is:  [[-0.99993306  0.01157047]\n",
            " [-0.01157047 -0.99993306]] \n",
            "\n",
            "The principal components of cluster 5 is:  [[ 0.99989374 -0.01457781]\n",
            " [ 0.01457781  0.99989374]] \n",
            "\n"
          ]
        }
      ]
    },
    {
      "cell_type": "markdown",
      "source": [
        "These principal components are different from each other."
      ],
      "metadata": {
        "id": "tjr4z99IB7-6"
      }
    },
    {
      "cell_type": "markdown",
      "source": [
        "**Question. 2d**\n",
        "\n",
        "If we apply the transformation represented by P' to the original data, the resulting transformed data will be aligned with the principal components of the data. "
      ],
      "metadata": {
        "id": "iHt0_Df4FgpP"
      }
    }
  ]
}